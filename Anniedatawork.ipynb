{
 "cells": [
  {
   "cell_type": "code",
   "execution_count": 2,
   "metadata": {},
   "outputs": [
    {
     "data": {
      "text/html": [
       "\n",
       "        <iframe\n",
       "            width=\"700\"\n",
       "            height=\"300\"\n",
       "            src=\"https://www.cia.gov/the-world-factbook/field/population-growth-rate/country-comparison\"\n",
       "            frameborder=\"0\"\n",
       "            allowfullscreen\n",
       "        ></iframe>\n",
       "        "
      ],
      "text/plain": [
       "<IPython.lib.display.IFrame at 0x26095539460>"
      ]
     },
     "execution_count": 2,
     "metadata": {},
     "output_type": "execute_result"
    }
   ],
   "source": [
    "from IPython.display import IFrame  \n",
    "ciaLink=\"https://www.cia.gov/the-world-factbook/field/population-growth-rate/country-comparison\" \n",
    "IFrame(ciaLink, width=700, height=300)\n"
   ]
  },
  {
   "cell_type": "code",
   "execution_count": 3,
   "metadata": {},
   "outputs": [],
   "source": [
    "import pandas as pd\n",
    "\n",
    "location='https://github.com/EvansDataScience/data/raw/master/'\n",
    "fileDTA=location+'hsb_ok.dta'\n",
    "dataStata=pd.read_stata(fileDTA,convert_categoricals=True)\n",
    "\n",
    "dataCIA=pd.read_html(ciaLink,header=0,flavor='bs4',attrs={'class': 'content-table'})"
   ]
  },
  {
   "cell_type": "code",
   "execution_count": 4,
   "metadata": {},
   "outputs": [
    {
     "data": {
      "text/plain": [
       "1"
      ]
     },
     "execution_count": 4,
     "metadata": {},
     "output_type": "execute_result"
    }
   ],
   "source": [
    "len(dataCIA)"
   ]
  },
  {
   "cell_type": "code",
   "execution_count": 5,
   "metadata": {},
   "outputs": [
    {
     "data": {
      "text/plain": [
       "list"
      ]
     },
     "execution_count": 5,
     "metadata": {},
     "output_type": "execute_result"
    }
   ],
   "source": [
    "type(dataCIA)"
   ]
  },
  {
   "cell_type": "code",
   "execution_count": 6,
   "metadata": {},
   "outputs": [],
   "source": [
    "from IPython.display import IFrame  \n",
    "CIALink=\"https://www.cia.gov/the-world-factbook/field/population-growth-rate/country-comparison\" \n",
    "IFrame(ciaLink, width=900, height=500)\n",
    "\n",
    "import pandas as pd\n",
    "\n",
    "ciaTables=pd.read_html(ciaLink, # link\n",
    "                        #header=0, # where is the header?\n",
    "                        flavor='bs4', # helper to translate html\n",
    "                        attrs={'class': 'content-table'}) # attributes to identify element(s)"
   ]
  },
  {
   "cell_type": "code",
   "execution_count": 7,
   "metadata": {},
   "outputs": [
    {
     "data": {
      "text/html": [
       "<div>\n",
       "<style scoped>\n",
       "    .dataframe tbody tr th:only-of-type {\n",
       "        vertical-align: middle;\n",
       "    }\n",
       "\n",
       "    .dataframe tbody tr th {\n",
       "        vertical-align: top;\n",
       "    }\n",
       "\n",
       "    .dataframe thead th {\n",
       "        text-align: right;\n",
       "    }\n",
       "</style>\n",
       "<table border=\"1\" class=\"dataframe\">\n",
       "  <thead>\n",
       "    <tr style=\"text-align: right;\">\n",
       "      <th></th>\n",
       "      <th>Rank</th>\n",
       "      <th>Country</th>\n",
       "      <th>%</th>\n",
       "      <th>Date of Information</th>\n",
       "    </tr>\n",
       "  </thead>\n",
       "  <tbody>\n",
       "    <tr>\n",
       "      <th>0</th>\n",
       "      <td>1</td>\n",
       "      <td>Syria</td>\n",
       "      <td>5.32</td>\n",
       "      <td>2021 est.</td>\n",
       "    </tr>\n",
       "    <tr>\n",
       "      <th>1</th>\n",
       "      <td>2</td>\n",
       "      <td>South Sudan</td>\n",
       "      <td>5.05</td>\n",
       "      <td>2021 est.</td>\n",
       "    </tr>\n",
       "    <tr>\n",
       "      <th>2</th>\n",
       "      <td>3</td>\n",
       "      <td>Burundi</td>\n",
       "      <td>3.68</td>\n",
       "      <td>2021 est.</td>\n",
       "    </tr>\n",
       "    <tr>\n",
       "      <th>3</th>\n",
       "      <td>4</td>\n",
       "      <td>Niger</td>\n",
       "      <td>3.65</td>\n",
       "      <td>2021 est.</td>\n",
       "    </tr>\n",
       "    <tr>\n",
       "      <th>4</th>\n",
       "      <td>5</td>\n",
       "      <td>Angola</td>\n",
       "      <td>3.38</td>\n",
       "      <td>2021 est.</td>\n",
       "    </tr>\n",
       "    <tr>\n",
       "      <th>...</th>\n",
       "      <td>...</td>\n",
       "      <td>...</td>\n",
       "      <td>...</td>\n",
       "      <td>...</td>\n",
       "    </tr>\n",
       "    <tr>\n",
       "      <th>235</th>\n",
       "      <td>234</td>\n",
       "      <td>Saint Pierre and Miquelon</td>\n",
       "      <td>-1.20</td>\n",
       "      <td>2021 est.</td>\n",
       "    </tr>\n",
       "    <tr>\n",
       "      <th>236</th>\n",
       "      <td>235</td>\n",
       "      <td>Puerto Rico</td>\n",
       "      <td>-1.46</td>\n",
       "      <td>2021 est.</td>\n",
       "    </tr>\n",
       "    <tr>\n",
       "      <th>237</th>\n",
       "      <td>236</td>\n",
       "      <td>American Samoa</td>\n",
       "      <td>-2.10</td>\n",
       "      <td>2021 est.</td>\n",
       "    </tr>\n",
       "    <tr>\n",
       "      <th>238</th>\n",
       "      <td>237</td>\n",
       "      <td>Cook Islands</td>\n",
       "      <td>-2.46</td>\n",
       "      <td>2021 est.</td>\n",
       "    </tr>\n",
       "    <tr>\n",
       "      <th>239</th>\n",
       "      <td>240</td>\n",
       "      <td>Cocos (Keeling) Islands</td>\n",
       "      <td>-2.46</td>\n",
       "      <td>2021 est.</td>\n",
       "    </tr>\n",
       "  </tbody>\n",
       "</table>\n",
       "<p>240 rows × 4 columns</p>\n",
       "</div>"
      ],
      "text/plain": [
       "     Rank                    Country     % Date of Information\n",
       "0       1                      Syria  5.32           2021 est.\n",
       "1       2                South Sudan  5.05           2021 est.\n",
       "2       3                    Burundi  3.68           2021 est.\n",
       "3       4                      Niger  3.65           2021 est.\n",
       "4       5                     Angola  3.38           2021 est.\n",
       "..    ...                        ...   ...                 ...\n",
       "235   234  Saint Pierre and Miquelon -1.20           2021 est.\n",
       "236   235                Puerto Rico -1.46           2021 est.\n",
       "237   236             American Samoa -2.10           2021 est.\n",
       "238   237               Cook Islands -2.46           2021 est.\n",
       "239   240    Cocos (Keeling) Islands -2.46           2021 est.\n",
       "\n",
       "[240 rows x 4 columns]"
      ]
     },
     "execution_count": 7,
     "metadata": {},
     "output_type": "execute_result"
    }
   ],
   "source": [
    "# remember that Python starts counting in ZERO!\n",
    "dataCIA[0]"
   ]
  },
  {
   "cell_type": "code",
   "execution_count": 8,
   "metadata": {},
   "outputs": [],
   "source": [
    "DFTest=ciaTables[0]"
   ]
  },
  {
   "cell_type": "code",
   "execution_count": 9,
   "metadata": {},
   "outputs": [
    {
     "data": {
      "text/html": [
       "<div>\n",
       "<style scoped>\n",
       "    .dataframe tbody tr th:only-of-type {\n",
       "        vertical-align: middle;\n",
       "    }\n",
       "\n",
       "    .dataframe tbody tr th {\n",
       "        vertical-align: top;\n",
       "    }\n",
       "\n",
       "    .dataframe thead th {\n",
       "        text-align: right;\n",
       "    }\n",
       "</style>\n",
       "<table border=\"1\" class=\"dataframe\">\n",
       "  <thead>\n",
       "    <tr style=\"text-align: right;\">\n",
       "      <th></th>\n",
       "      <th>Rank</th>\n",
       "      <th>Country</th>\n",
       "      <th>%</th>\n",
       "      <th>Date of Information</th>\n",
       "    </tr>\n",
       "  </thead>\n",
       "  <tbody>\n",
       "    <tr>\n",
       "      <th>0</th>\n",
       "      <td>1</td>\n",
       "      <td>Syria</td>\n",
       "      <td>5.32</td>\n",
       "      <td>2021 est.</td>\n",
       "    </tr>\n",
       "    <tr>\n",
       "      <th>1</th>\n",
       "      <td>2</td>\n",
       "      <td>South Sudan</td>\n",
       "      <td>5.05</td>\n",
       "      <td>2021 est.</td>\n",
       "    </tr>\n",
       "    <tr>\n",
       "      <th>2</th>\n",
       "      <td>3</td>\n",
       "      <td>Burundi</td>\n",
       "      <td>3.68</td>\n",
       "      <td>2021 est.</td>\n",
       "    </tr>\n",
       "    <tr>\n",
       "      <th>3</th>\n",
       "      <td>4</td>\n",
       "      <td>Niger</td>\n",
       "      <td>3.65</td>\n",
       "      <td>2021 est.</td>\n",
       "    </tr>\n",
       "    <tr>\n",
       "      <th>4</th>\n",
       "      <td>5</td>\n",
       "      <td>Angola</td>\n",
       "      <td>3.38</td>\n",
       "      <td>2021 est.</td>\n",
       "    </tr>\n",
       "    <tr>\n",
       "      <th>...</th>\n",
       "      <td>...</td>\n",
       "      <td>...</td>\n",
       "      <td>...</td>\n",
       "      <td>...</td>\n",
       "    </tr>\n",
       "    <tr>\n",
       "      <th>235</th>\n",
       "      <td>234</td>\n",
       "      <td>Saint Pierre and Miquelon</td>\n",
       "      <td>-1.20</td>\n",
       "      <td>2021 est.</td>\n",
       "    </tr>\n",
       "    <tr>\n",
       "      <th>236</th>\n",
       "      <td>235</td>\n",
       "      <td>Puerto Rico</td>\n",
       "      <td>-1.46</td>\n",
       "      <td>2021 est.</td>\n",
       "    </tr>\n",
       "    <tr>\n",
       "      <th>237</th>\n",
       "      <td>236</td>\n",
       "      <td>American Samoa</td>\n",
       "      <td>-2.10</td>\n",
       "      <td>2021 est.</td>\n",
       "    </tr>\n",
       "    <tr>\n",
       "      <th>238</th>\n",
       "      <td>237</td>\n",
       "      <td>Cook Islands</td>\n",
       "      <td>-2.46</td>\n",
       "      <td>2021 est.</td>\n",
       "    </tr>\n",
       "    <tr>\n",
       "      <th>239</th>\n",
       "      <td>240</td>\n",
       "      <td>Cocos (Keeling) Islands</td>\n",
       "      <td>-2.46</td>\n",
       "      <td>2021 est.</td>\n",
       "    </tr>\n",
       "  </tbody>\n",
       "</table>\n",
       "<p>240 rows × 4 columns</p>\n",
       "</div>"
      ],
      "text/plain": [
       "     Rank                    Country     % Date of Information\n",
       "0       1                      Syria  5.32           2021 est.\n",
       "1       2                South Sudan  5.05           2021 est.\n",
       "2       3                    Burundi  3.68           2021 est.\n",
       "3       4                      Niger  3.65           2021 est.\n",
       "4       5                     Angola  3.38           2021 est.\n",
       "..    ...                        ...   ...                 ...\n",
       "235   234  Saint Pierre and Miquelon -1.20           2021 est.\n",
       "236   235                Puerto Rico -1.46           2021 est.\n",
       "237   236             American Samoa -2.10           2021 est.\n",
       "238   237               Cook Islands -2.46           2021 est.\n",
       "239   240    Cocos (Keeling) Islands -2.46           2021 est.\n",
       "\n",
       "[240 rows x 4 columns]"
      ]
     },
     "execution_count": 9,
     "metadata": {},
     "output_type": "execute_result"
    }
   ],
   "source": [
    "ciaTables[0] "
   ]
  },
  {
   "cell_type": "code",
   "execution_count": 10,
   "metadata": {
    "scrolled": true
   },
   "outputs": [
    {
     "data": {
      "text/html": [
       "<div>\n",
       "<style scoped>\n",
       "    .dataframe tbody tr th:only-of-type {\n",
       "        vertical-align: middle;\n",
       "    }\n",
       "\n",
       "    .dataframe tbody tr th {\n",
       "        vertical-align: top;\n",
       "    }\n",
       "\n",
       "    .dataframe thead th {\n",
       "        text-align: right;\n",
       "    }\n",
       "</style>\n",
       "<table border=\"1\" class=\"dataframe\">\n",
       "  <thead>\n",
       "    <tr style=\"text-align: right;\">\n",
       "      <th></th>\n",
       "      <th>Rank</th>\n",
       "      <th>Country</th>\n",
       "      <th>%</th>\n",
       "      <th>Date of Information</th>\n",
       "    </tr>\n",
       "  </thead>\n",
       "  <tbody>\n",
       "    <tr>\n",
       "      <th>0</th>\n",
       "      <td>1</td>\n",
       "      <td>Syria</td>\n",
       "      <td>5.32</td>\n",
       "      <td>2021 est.</td>\n",
       "    </tr>\n",
       "    <tr>\n",
       "      <th>1</th>\n",
       "      <td>2</td>\n",
       "      <td>South Sudan</td>\n",
       "      <td>5.05</td>\n",
       "      <td>2021 est.</td>\n",
       "    </tr>\n",
       "    <tr>\n",
       "      <th>2</th>\n",
       "      <td>3</td>\n",
       "      <td>Burundi</td>\n",
       "      <td>3.68</td>\n",
       "      <td>2021 est.</td>\n",
       "    </tr>\n",
       "    <tr>\n",
       "      <th>3</th>\n",
       "      <td>4</td>\n",
       "      <td>Niger</td>\n",
       "      <td>3.65</td>\n",
       "      <td>2021 est.</td>\n",
       "    </tr>\n",
       "    <tr>\n",
       "      <th>4</th>\n",
       "      <td>5</td>\n",
       "      <td>Angola</td>\n",
       "      <td>3.38</td>\n",
       "      <td>2021 est.</td>\n",
       "    </tr>\n",
       "  </tbody>\n",
       "</table>\n",
       "</div>"
      ],
      "text/plain": [
       "   Rank      Country     % Date of Information\n",
       "0     1        Syria  5.32           2021 est.\n",
       "1     2  South Sudan  5.05           2021 est.\n",
       "2     3      Burundi  3.68           2021 est.\n",
       "3     4        Niger  3.65           2021 est.\n",
       "4     5       Angola  3.38           2021 est."
      ]
     },
     "execution_count": 10,
     "metadata": {},
     "output_type": "execute_result"
    }
   ],
   "source": [
    "# all columns\n",
    "DFTest.columns=['Rank', 'Country', '%','Date of Information']\n",
    "#se changes:\n",
    "DFTest.head()"
   ]
  },
  {
   "cell_type": "code",
   "execution_count": 11,
   "metadata": {},
   "outputs": [],
   "source": [
    "DF=ciaTables[0]\n",
    "DFTest=DF.copy() "
   ]
  },
  {
   "cell_type": "code",
   "execution_count": 12,
   "metadata": {},
   "outputs": [],
   "source": [
    "DFTest=DF.copy() # recreating DFTest\n",
    "some=['Rank', 'Country', '%','Date of Information']"
   ]
  },
  {
   "cell_type": "code",
   "execution_count": 13,
   "metadata": {},
   "outputs": [
    {
     "data": {
      "text/html": [
       "<div>\n",
       "<style scoped>\n",
       "    .dataframe tbody tr th:only-of-type {\n",
       "        vertical-align: middle;\n",
       "    }\n",
       "\n",
       "    .dataframe tbody tr th {\n",
       "        vertical-align: top;\n",
       "    }\n",
       "\n",
       "    .dataframe thead th {\n",
       "        text-align: right;\n",
       "    }\n",
       "</style>\n",
       "<table border=\"1\" class=\"dataframe\">\n",
       "  <thead>\n",
       "    <tr style=\"text-align: right;\">\n",
       "      <th></th>\n",
       "      <th>Rank</th>\n",
       "      <th>Country</th>\n",
       "      <th>%</th>\n",
       "      <th>Date of Information</th>\n",
       "    </tr>\n",
       "  </thead>\n",
       "  <tbody>\n",
       "    <tr>\n",
       "      <th>0</th>\n",
       "      <td>1</td>\n",
       "      <td>Syria</td>\n",
       "      <td>5.32</td>\n",
       "      <td>2021 est.</td>\n",
       "    </tr>\n",
       "    <tr>\n",
       "      <th>1</th>\n",
       "      <td>2</td>\n",
       "      <td>South Sudan</td>\n",
       "      <td>5.05</td>\n",
       "      <td>2021 est.</td>\n",
       "    </tr>\n",
       "    <tr>\n",
       "      <th>2</th>\n",
       "      <td>3</td>\n",
       "      <td>Burundi</td>\n",
       "      <td>3.68</td>\n",
       "      <td>2021 est.</td>\n",
       "    </tr>\n",
       "    <tr>\n",
       "      <th>3</th>\n",
       "      <td>4</td>\n",
       "      <td>Niger</td>\n",
       "      <td>3.65</td>\n",
       "      <td>2021 est.</td>\n",
       "    </tr>\n",
       "    <tr>\n",
       "      <th>4</th>\n",
       "      <td>5</td>\n",
       "      <td>Angola</td>\n",
       "      <td>3.38</td>\n",
       "      <td>2021 est.</td>\n",
       "    </tr>\n",
       "  </tbody>\n",
       "</table>\n",
       "</div>"
      ],
      "text/plain": [
       "   Rank      Country     % Date of Information\n",
       "0     1        Syria  5.32           2021 est.\n",
       "1     2  South Sudan  5.05           2021 est.\n",
       "2     3      Burundi  3.68           2021 est.\n",
       "3     4        Niger  3.65           2021 est.\n",
       "4     5       Angola  3.38           2021 est."
      ]
     },
     "execution_count": 13,
     "metadata": {},
     "output_type": "execute_result"
    }
   ],
   "source": [
    "# all columns\n",
    "DFTest.columns=['Rank', 'Country', '%','Date of Information']\n",
    "#se changes:\n",
    "DFTest.head()"
   ]
  },
  {
   "cell_type": "code",
   "execution_count": 14,
   "metadata": {},
   "outputs": [
    {
     "data": {
      "text/plain": [
       "{'Rank': 'Rank', 'Country': 'Country', '%': '%'}"
      ]
     },
     "execution_count": 14,
     "metadata": {},
     "output_type": "execute_result"
    }
   ],
   "source": [
    "dict(zip(DFTest.columns[0:3:1], some))"
   ]
  },
  {
   "cell_type": "code",
   "execution_count": 15,
   "metadata": {},
   "outputs": [
    {
     "data": {
      "text/html": [
       "<div>\n",
       "<style scoped>\n",
       "    .dataframe tbody tr th:only-of-type {\n",
       "        vertical-align: middle;\n",
       "    }\n",
       "\n",
       "    .dataframe tbody tr th {\n",
       "        vertical-align: top;\n",
       "    }\n",
       "\n",
       "    .dataframe thead th {\n",
       "        text-align: right;\n",
       "    }\n",
       "</style>\n",
       "<table border=\"1\" class=\"dataframe\">\n",
       "  <thead>\n",
       "    <tr style=\"text-align: right;\">\n",
       "      <th></th>\n",
       "      <th>Rank</th>\n",
       "      <th>Country</th>\n",
       "      <th>%</th>\n",
       "    </tr>\n",
       "  </thead>\n",
       "  <tbody>\n",
       "    <tr>\n",
       "      <th>0</th>\n",
       "      <td>1</td>\n",
       "      <td>Syria</td>\n",
       "      <td>5.32</td>\n",
       "    </tr>\n",
       "    <tr>\n",
       "      <th>1</th>\n",
       "      <td>2</td>\n",
       "      <td>South Sudan</td>\n",
       "      <td>5.05</td>\n",
       "    </tr>\n",
       "    <tr>\n",
       "      <th>2</th>\n",
       "      <td>3</td>\n",
       "      <td>Burundi</td>\n",
       "      <td>3.68</td>\n",
       "    </tr>\n",
       "    <tr>\n",
       "      <th>3</th>\n",
       "      <td>4</td>\n",
       "      <td>Niger</td>\n",
       "      <td>3.65</td>\n",
       "    </tr>\n",
       "    <tr>\n",
       "      <th>4</th>\n",
       "      <td>5</td>\n",
       "      <td>Angola</td>\n",
       "      <td>3.38</td>\n",
       "    </tr>\n",
       "    <tr>\n",
       "      <th>...</th>\n",
       "      <td>...</td>\n",
       "      <td>...</td>\n",
       "      <td>...</td>\n",
       "    </tr>\n",
       "    <tr>\n",
       "      <th>235</th>\n",
       "      <td>234</td>\n",
       "      <td>Saint Pierre and Miquelon</td>\n",
       "      <td>-1.20</td>\n",
       "    </tr>\n",
       "    <tr>\n",
       "      <th>236</th>\n",
       "      <td>235</td>\n",
       "      <td>Puerto Rico</td>\n",
       "      <td>-1.46</td>\n",
       "    </tr>\n",
       "    <tr>\n",
       "      <th>237</th>\n",
       "      <td>236</td>\n",
       "      <td>American Samoa</td>\n",
       "      <td>-2.10</td>\n",
       "    </tr>\n",
       "    <tr>\n",
       "      <th>238</th>\n",
       "      <td>237</td>\n",
       "      <td>Cook Islands</td>\n",
       "      <td>-2.46</td>\n",
       "    </tr>\n",
       "    <tr>\n",
       "      <th>239</th>\n",
       "      <td>240</td>\n",
       "      <td>Cocos (Keeling) Islands</td>\n",
       "      <td>-2.46</td>\n",
       "    </tr>\n",
       "  </tbody>\n",
       "</table>\n",
       "<p>240 rows × 3 columns</p>\n",
       "</div>"
      ],
      "text/plain": [
       "     Rank                    Country     %\n",
       "0       1                      Syria  5.32\n",
       "1       2                South Sudan  5.05\n",
       "2       3                    Burundi  3.68\n",
       "3       4                      Niger  3.65\n",
       "4       5                     Angola  3.38\n",
       "..    ...                        ...   ...\n",
       "235   234  Saint Pierre and Miquelon -1.20\n",
       "236   235                Puerto Rico -1.46\n",
       "237   236             American Samoa -2.10\n",
       "238   237               Cook Islands -2.46\n",
       "239   240    Cocos (Keeling) Islands -2.46\n",
       "\n",
       "[240 rows x 3 columns]"
      ]
     },
     "execution_count": 15,
     "metadata": {},
     "output_type": "execute_result"
    }
   ],
   "source": [
    "#DFTest.columns[0:3:1] \n",
    "newColumnNames=['Rank', 'Country', '%']\n",
    "DFTest.rename(columns=dict(zip(DFTest.columns[0:3:1], newColumnNames)))\n",
    "DFTest[['Rank', 'Country', '%']]"
   ]
  },
  {
   "cell_type": "code",
   "execution_count": 16,
   "metadata": {},
   "outputs": [
    {
     "data": {
      "text/html": [
       "<div>\n",
       "<style scoped>\n",
       "    .dataframe tbody tr th:only-of-type {\n",
       "        vertical-align: middle;\n",
       "    }\n",
       "\n",
       "    .dataframe tbody tr th {\n",
       "        vertical-align: top;\n",
       "    }\n",
       "\n",
       "    .dataframe thead th {\n",
       "        text-align: right;\n",
       "    }\n",
       "</style>\n",
       "<table border=\"1\" class=\"dataframe\">\n",
       "  <thead>\n",
       "    <tr style=\"text-align: right;\">\n",
       "      <th></th>\n",
       "      <th>Rank</th>\n",
       "      <th>Country</th>\n",
       "      <th>%</th>\n",
       "    </tr>\n",
       "  </thead>\n",
       "  <tbody>\n",
       "    <tr>\n",
       "      <th>0</th>\n",
       "      <td>1</td>\n",
       "      <td>Syria</td>\n",
       "      <td>5.32</td>\n",
       "    </tr>\n",
       "    <tr>\n",
       "      <th>1</th>\n",
       "      <td>2</td>\n",
       "      <td>South Sudan</td>\n",
       "      <td>5.05</td>\n",
       "    </tr>\n",
       "    <tr>\n",
       "      <th>2</th>\n",
       "      <td>3</td>\n",
       "      <td>Burundi</td>\n",
       "      <td>3.68</td>\n",
       "    </tr>\n",
       "    <tr>\n",
       "      <th>3</th>\n",
       "      <td>4</td>\n",
       "      <td>Niger</td>\n",
       "      <td>3.65</td>\n",
       "    </tr>\n",
       "    <tr>\n",
       "      <th>4</th>\n",
       "      <td>5</td>\n",
       "      <td>Angola</td>\n",
       "      <td>3.38</td>\n",
       "    </tr>\n",
       "    <tr>\n",
       "      <th>...</th>\n",
       "      <td>...</td>\n",
       "      <td>...</td>\n",
       "      <td>...</td>\n",
       "    </tr>\n",
       "    <tr>\n",
       "      <th>235</th>\n",
       "      <td>234</td>\n",
       "      <td>Saint Pierre and Miquelon</td>\n",
       "      <td>-1.20</td>\n",
       "    </tr>\n",
       "    <tr>\n",
       "      <th>236</th>\n",
       "      <td>235</td>\n",
       "      <td>Puerto Rico</td>\n",
       "      <td>-1.46</td>\n",
       "    </tr>\n",
       "    <tr>\n",
       "      <th>237</th>\n",
       "      <td>236</td>\n",
       "      <td>American Samoa</td>\n",
       "      <td>-2.10</td>\n",
       "    </tr>\n",
       "    <tr>\n",
       "      <th>238</th>\n",
       "      <td>237</td>\n",
       "      <td>Cook Islands</td>\n",
       "      <td>-2.46</td>\n",
       "    </tr>\n",
       "    <tr>\n",
       "      <th>239</th>\n",
       "      <td>240</td>\n",
       "      <td>Cocos (Keeling) Islands</td>\n",
       "      <td>-2.46</td>\n",
       "    </tr>\n",
       "  </tbody>\n",
       "</table>\n",
       "<p>240 rows × 3 columns</p>\n",
       "</div>"
      ],
      "text/plain": [
       "     Rank                    Country     %\n",
       "0       1                      Syria  5.32\n",
       "1       2                South Sudan  5.05\n",
       "2       3                    Burundi  3.68\n",
       "3       4                      Niger  3.65\n",
       "4       5                     Angola  3.38\n",
       "..    ...                        ...   ...\n",
       "235   234  Saint Pierre and Miquelon -1.20\n",
       "236   235                Puerto Rico -1.46\n",
       "237   236             American Samoa -2.10\n",
       "238   237               Cook Islands -2.46\n",
       "239   240    Cocos (Keeling) Islands -2.46\n",
       "\n",
       "[240 rows x 3 columns]"
      ]
     },
     "execution_count": 16,
     "metadata": {},
     "output_type": "execute_result"
    }
   ],
   "source": [
    "DFTest.rename(columns=dict(zip(DFTest.columns[0:3:1], newColumnNames)))\n",
    "DFTest[['Rank', 'Country', '%']]"
   ]
  },
  {
   "cell_type": "code",
   "execution_count": 17,
   "metadata": {},
   "outputs": [
    {
     "data": {
      "text/html": [
       "<div>\n",
       "<style scoped>\n",
       "    .dataframe tbody tr th:only-of-type {\n",
       "        vertical-align: middle;\n",
       "    }\n",
       "\n",
       "    .dataframe tbody tr th {\n",
       "        vertical-align: top;\n",
       "    }\n",
       "\n",
       "    .dataframe thead th {\n",
       "        text-align: right;\n",
       "    }\n",
       "</style>\n",
       "<table border=\"1\" class=\"dataframe\">\n",
       "  <thead>\n",
       "    <tr style=\"text-align: right;\">\n",
       "      <th></th>\n",
       "      <th>Rank</th>\n",
       "      <th>Country</th>\n",
       "      <th>%</th>\n",
       "      <th>Date of Information</th>\n",
       "    </tr>\n",
       "  </thead>\n",
       "  <tbody>\n",
       "    <tr>\n",
       "      <th>0</th>\n",
       "      <td>1</td>\n",
       "      <td>Syria</td>\n",
       "      <td>5.32</td>\n",
       "      <td>2021 est.</td>\n",
       "    </tr>\n",
       "    <tr>\n",
       "      <th>1</th>\n",
       "      <td>2</td>\n",
       "      <td>South Sudan</td>\n",
       "      <td>5.05</td>\n",
       "      <td>2021 est.</td>\n",
       "    </tr>\n",
       "    <tr>\n",
       "      <th>2</th>\n",
       "      <td>3</td>\n",
       "      <td>Burundi</td>\n",
       "      <td>3.68</td>\n",
       "      <td>2021 est.</td>\n",
       "    </tr>\n",
       "    <tr>\n",
       "      <th>3</th>\n",
       "      <td>4</td>\n",
       "      <td>Niger</td>\n",
       "      <td>3.65</td>\n",
       "      <td>2021 est.</td>\n",
       "    </tr>\n",
       "    <tr>\n",
       "      <th>4</th>\n",
       "      <td>5</td>\n",
       "      <td>Angola</td>\n",
       "      <td>3.38</td>\n",
       "      <td>2021 est.</td>\n",
       "    </tr>\n",
       "    <tr>\n",
       "      <th>...</th>\n",
       "      <td>...</td>\n",
       "      <td>...</td>\n",
       "      <td>...</td>\n",
       "      <td>...</td>\n",
       "    </tr>\n",
       "    <tr>\n",
       "      <th>235</th>\n",
       "      <td>234</td>\n",
       "      <td>Saint Pierre and Miquelon</td>\n",
       "      <td>-1.20</td>\n",
       "      <td>2021 est.</td>\n",
       "    </tr>\n",
       "    <tr>\n",
       "      <th>236</th>\n",
       "      <td>235</td>\n",
       "      <td>Puerto Rico</td>\n",
       "      <td>-1.46</td>\n",
       "      <td>2021 est.</td>\n",
       "    </tr>\n",
       "    <tr>\n",
       "      <th>237</th>\n",
       "      <td>236</td>\n",
       "      <td>American Samoa</td>\n",
       "      <td>-2.10</td>\n",
       "      <td>2021 est.</td>\n",
       "    </tr>\n",
       "    <tr>\n",
       "      <th>238</th>\n",
       "      <td>237</td>\n",
       "      <td>Cook Islands</td>\n",
       "      <td>-2.46</td>\n",
       "      <td>2021 est.</td>\n",
       "    </tr>\n",
       "    <tr>\n",
       "      <th>239</th>\n",
       "      <td>240</td>\n",
       "      <td>Cocos (Keeling) Islands</td>\n",
       "      <td>-2.46</td>\n",
       "      <td>2021 est.</td>\n",
       "    </tr>\n",
       "  </tbody>\n",
       "</table>\n",
       "<p>240 rows × 4 columns</p>\n",
       "</div>"
      ],
      "text/plain": [
       "     Rank                    Country     % Date of Information\n",
       "0       1                      Syria  5.32           2021 est.\n",
       "1       2                South Sudan  5.05           2021 est.\n",
       "2       3                    Burundi  3.68           2021 est.\n",
       "3       4                      Niger  3.65           2021 est.\n",
       "4       5                     Angola  3.38           2021 est.\n",
       "..    ...                        ...   ...                 ...\n",
       "235   234  Saint Pierre and Miquelon -1.20           2021 est.\n",
       "236   235                Puerto Rico -1.46           2021 est.\n",
       "237   236             American Samoa -2.10           2021 est.\n",
       "238   237               Cook Islands -2.46           2021 est.\n",
       "239   240    Cocos (Keeling) Islands -2.46           2021 est.\n",
       "\n",
       "[240 rows x 4 columns]"
      ]
     },
     "execution_count": 17,
     "metadata": {},
     "output_type": "execute_result"
    }
   ],
   "source": [
    "DFTest"
   ]
  },
  {
   "cell_type": "code",
   "execution_count": 18,
   "metadata": {},
   "outputs": [],
   "source": [
    "DFTest.rename(columns=dict(zip(DFTest.columns[0:3:1], newColumnNames)),inplace=True)"
   ]
  },
  {
   "cell_type": "code",
   "execution_count": 19,
   "metadata": {},
   "outputs": [
    {
     "data": {
      "text/html": [
       "<div>\n",
       "<style scoped>\n",
       "    .dataframe tbody tr th:only-of-type {\n",
       "        vertical-align: middle;\n",
       "    }\n",
       "\n",
       "    .dataframe tbody tr th {\n",
       "        vertical-align: top;\n",
       "    }\n",
       "\n",
       "    .dataframe thead th {\n",
       "        text-align: right;\n",
       "    }\n",
       "</style>\n",
       "<table border=\"1\" class=\"dataframe\">\n",
       "  <thead>\n",
       "    <tr style=\"text-align: right;\">\n",
       "      <th></th>\n",
       "      <th>Rank</th>\n",
       "      <th>Country</th>\n",
       "      <th>%</th>\n",
       "    </tr>\n",
       "  </thead>\n",
       "  <tbody>\n",
       "    <tr>\n",
       "      <th>0</th>\n",
       "      <td>1</td>\n",
       "      <td>Syria</td>\n",
       "      <td>5.32</td>\n",
       "    </tr>\n",
       "    <tr>\n",
       "      <th>1</th>\n",
       "      <td>2</td>\n",
       "      <td>South Sudan</td>\n",
       "      <td>5.05</td>\n",
       "    </tr>\n",
       "    <tr>\n",
       "      <th>2</th>\n",
       "      <td>3</td>\n",
       "      <td>Burundi</td>\n",
       "      <td>3.68</td>\n",
       "    </tr>\n",
       "    <tr>\n",
       "      <th>3</th>\n",
       "      <td>4</td>\n",
       "      <td>Niger</td>\n",
       "      <td>3.65</td>\n",
       "    </tr>\n",
       "    <tr>\n",
       "      <th>4</th>\n",
       "      <td>5</td>\n",
       "      <td>Angola</td>\n",
       "      <td>3.38</td>\n",
       "    </tr>\n",
       "    <tr>\n",
       "      <th>...</th>\n",
       "      <td>...</td>\n",
       "      <td>...</td>\n",
       "      <td>...</td>\n",
       "    </tr>\n",
       "    <tr>\n",
       "      <th>235</th>\n",
       "      <td>234</td>\n",
       "      <td>Saint Pierre and Miquelon</td>\n",
       "      <td>-1.20</td>\n",
       "    </tr>\n",
       "    <tr>\n",
       "      <th>236</th>\n",
       "      <td>235</td>\n",
       "      <td>Puerto Rico</td>\n",
       "      <td>-1.46</td>\n",
       "    </tr>\n",
       "    <tr>\n",
       "      <th>237</th>\n",
       "      <td>236</td>\n",
       "      <td>American Samoa</td>\n",
       "      <td>-2.10</td>\n",
       "    </tr>\n",
       "    <tr>\n",
       "      <th>238</th>\n",
       "      <td>237</td>\n",
       "      <td>Cook Islands</td>\n",
       "      <td>-2.46</td>\n",
       "    </tr>\n",
       "    <tr>\n",
       "      <th>239</th>\n",
       "      <td>240</td>\n",
       "      <td>Cocos (Keeling) Islands</td>\n",
       "      <td>-2.46</td>\n",
       "    </tr>\n",
       "  </tbody>\n",
       "</table>\n",
       "<p>240 rows × 3 columns</p>\n",
       "</div>"
      ],
      "text/plain": [
       "     Rank                    Country     %\n",
       "0       1                      Syria  5.32\n",
       "1       2                South Sudan  5.05\n",
       "2       3                    Burundi  3.68\n",
       "3       4                      Niger  3.65\n",
       "4       5                     Angola  3.38\n",
       "..    ...                        ...   ...\n",
       "235   234  Saint Pierre and Miquelon -1.20\n",
       "236   235                Puerto Rico -1.46\n",
       "237   236             American Samoa -2.10\n",
       "238   237               Cook Islands -2.46\n",
       "239   240    Cocos (Keeling) Islands -2.46\n",
       "\n",
       "[240 rows x 3 columns]"
      ]
     },
     "execution_count": 19,
     "metadata": {},
     "output_type": "execute_result"
    }
   ],
   "source": [
    "DFTest[['Rank', 'Country', '%']]"
   ]
  },
  {
   "cell_type": "code",
   "execution_count": 20,
   "metadata": {},
   "outputs": [],
   "source": [
    "import re"
   ]
  },
  {
   "cell_type": "code",
   "execution_count": 21,
   "metadata": {},
   "outputs": [],
   "source": [
    "textExample=\"var1 iab22 les333[4]\""
   ]
  },
  {
   "cell_type": "code",
   "execution_count": 22,
   "metadata": {},
   "outputs": [
    {
     "data": {
      "text/plain": [
       "'variables'"
      ]
     },
     "execution_count": 22,
     "metadata": {},
     "output_type": "execute_result"
    }
   ],
   "source": [
    "# one or more blanks: \\\\s+\n",
    "# one or more numbers: \\\\d+\n",
    "# find opening bracket : \\\\[\n",
    "# find closing bracket: \\\\]\n",
    "\n",
    "# You can combine using '|' (or):\n",
    "WhenYouFind='\\\\s+|\\\\d+|\\\\[|\\\\]'\n",
    "replaceWith=''\n",
    "\n",
    "# use it:\n",
    "re.sub(WhenYouFind,replaceWith,textExample)"
   ]
  },
  {
   "cell_type": "code",
   "execution_count": 23,
   "metadata": {},
   "outputs": [
    {
     "data": {
      "text/plain": [
       "['Rank', 'Country', '%', 'DateofInformation']"
      ]
     },
     "execution_count": 23,
     "metadata": {},
     "output_type": "execute_result"
    }
   ],
   "source": [
    "# substitute the elements in each NAME in the COLUMNS:\n",
    "[re.sub(WhenYouFind,replaceWith,NewColumnNames) for NewColumnNames in DFTest.columns]"
   ]
  },
  {
   "cell_type": "code",
   "execution_count": 24,
   "metadata": {},
   "outputs": [
    {
     "data": {
      "text/plain": [
       "['rank', 'country', '%', 'dateofinformation']"
      ]
     },
     "execution_count": 24,
     "metadata": {},
     "output_type": "execute_result"
    }
   ],
   "source": [
    "# Turn the result to lower case\n",
    "[re.sub(WhenYouFind,replaceWith,NewColumnNames).lower() for NewColumnNames in DFTest.columns]"
   ]
  },
  {
   "cell_type": "code",
   "execution_count": 25,
   "metadata": {},
   "outputs": [],
   "source": [
    "# \"lambda\" style function\n",
    "# name of function is 'cleaner'\n",
    "# function transforms INPUT\n",
    "\n",
    "cleaner = lambda INPUT: re.sub(WhenYouFind,replaceWith,INPUT).lower()"
   ]
  },
  {
   "cell_type": "code",
   "execution_count": 26,
   "metadata": {},
   "outputs": [
    {
     "data": {
      "text/plain": [
       "['rank', 'country', '%', 'dateofinformation']"
      ]
     },
     "execution_count": 26,
     "metadata": {},
     "output_type": "execute_result"
    }
   ],
   "source": [
    "[cleaner(TEXT) for TEXT in DF.columns]"
   ]
  },
  {
   "cell_type": "code",
   "execution_count": 27,
   "metadata": {},
   "outputs": [
    {
     "data": {
      "text/plain": [
       "Index(['rank', 'country', '%', 'dateofinformation'], dtype='object')"
      ]
     },
     "execution_count": 27,
     "metadata": {},
     "output_type": "execute_result"
    }
   ],
   "source": [
    "DFTest=DF.copy() # recreating DFTest\n",
    "\n",
    "# Pandas only:\n",
    "DFTest.columns.str.replace(WhenYouFind,replaceWith,regex=True).str.lower()"
   ]
  },
  {
   "cell_type": "code",
   "execution_count": 28,
   "metadata": {},
   "outputs": [
    {
     "data": {
      "text/plain": [
       "Index(['rank', 'country', '%'], dtype='object')"
      ]
     },
     "execution_count": 28,
     "metadata": {},
     "output_type": "execute_result"
    }
   ],
   "source": [
    "DFTest.columns[0:3:1].str.replace(WhenYouFind,replaceWith,regex=True).str.lower()"
   ]
  },
  {
   "cell_type": "code",
   "execution_count": 29,
   "metadata": {},
   "outputs": [
    {
     "data": {
      "text/plain": [
       "Index(['rank', 'country', '%'], dtype='object')"
      ]
     },
     "execution_count": 29,
     "metadata": {},
     "output_type": "execute_result"
    }
   ],
   "source": [
    "# saving result :\n",
    "NewColumnNames=DFTest.columns[0:3:1].str.replace(WhenYouFind,replaceWith,regex=True).str.lower()\n",
    "# which are:\n",
    "NewColumnNames"
   ]
  },
  {
   "cell_type": "code",
   "execution_count": 30,
   "metadata": {},
   "outputs": [
    {
     "data": {
      "text/plain": [
       "{'Rank': 'rank', 'Country': 'country', '%': '%'}"
      ]
     },
     "execution_count": 30,
     "metadata": {},
     "output_type": "execute_result"
    }
   ],
   "source": [
    "# using 'zip()':\n",
    "changes=dict(zip(DF.iloc[:,0:3:1].columns,NewColumnNames))\n",
    "changes"
   ]
  },
  {
   "cell_type": "code",
   "execution_count": 31,
   "metadata": {},
   "outputs": [
    {
     "data": {
      "text/plain": [
       "Index(['Rank', 'Country', '%', 'Date of Information'], dtype='object')"
      ]
     },
     "execution_count": 31,
     "metadata": {},
     "output_type": "execute_result"
    }
   ],
   "source": [
    "DFTest=DF.copy() # recreating DFTest\n",
    "DFTest.columns"
   ]
  },
  {
   "cell_type": "code",
   "execution_count": 32,
   "metadata": {},
   "outputs": [
    {
     "data": {
      "text/plain": [
       "[['Rank'], ['Country'], ['%'], ['Date of Information']]"
      ]
     },
     "execution_count": 32,
     "metadata": {},
     "output_type": "execute_result"
    }
   ],
   "source": [
    "# split the text when you find '['\n",
    "notSoBad=[TEXT.split(\"[\") for TEXT in DFTest.columns]\n",
    "# see:\n",
    "notSoBad"
   ]
  },
  {
   "cell_type": "code",
   "execution_count": 33,
   "metadata": {},
   "outputs": [
    {
     "data": {
      "text/plain": [
       "['Rank', 'Country', '%', 'Date of Information']"
      ]
     },
     "execution_count": 33,
     "metadata": {},
     "output_type": "execute_result"
    }
   ],
   "source": [
    "# split the text when you find '['and keep first element:\n",
    "notSoBad=[TEXT.split(\"[\")[0] for TEXT in DFTest.columns]\n",
    "# see:\n",
    "notSoBad"
   ]
  },
  {
   "cell_type": "code",
   "execution_count": 34,
   "metadata": {},
   "outputs": [
    {
     "data": {
      "text/plain": [
       "[['Rank'], ['Country'], ['%'], ['Date', 'of', 'Information']]"
      ]
     },
     "execution_count": 34,
     "metadata": {},
     "output_type": "execute_result"
    }
   ],
   "source": [
    "#split using the blanks\n",
    "goodEnough=[TEXT.split(\" \") for TEXT in notSoBad]\n",
    "# see:\n",
    "goodEnough"
   ]
  },
  {
   "cell_type": "code",
   "execution_count": 35,
   "metadata": {},
   "outputs": [
    {
     "data": {
      "text/plain": [
       "['Rank', 'Country', '%', 'DateofInformation']"
      ]
     },
     "execution_count": 35,
     "metadata": {},
     "output_type": "execute_result"
    }
   ],
   "source": [
    "#split using the blanks and them concatenate using \"join()\":\n",
    "betterThanBad=[\"\".join(TEXT.split(\" \")) for TEXT in notSoBad]\n",
    "# see:\n",
    "betterThanBad"
   ]
  },
  {
   "cell_type": "code",
   "execution_count": 36,
   "metadata": {},
   "outputs": [
    {
     "data": {
      "text/plain": [
       "['rank', 'country', '%', 'dateinformation']"
      ]
     },
     "execution_count": 36,
     "metadata": {},
     "output_type": "execute_result"
    }
   ],
   "source": [
    "#original:\n",
    "import re\n",
    "[re.sub('\\d+|index|of',\"\",text.lower()) for text in betterThanBad]"
   ]
  },
  {
   "cell_type": "code",
   "execution_count": 37,
   "metadata": {},
   "outputs": [],
   "source": [
    "DF.columns=[re.sub('\\d+|index|of',\"\",text.lower()) for text in betterThanBad]"
   ]
  },
  {
   "cell_type": "code",
   "execution_count": 38,
   "metadata": {},
   "outputs": [
    {
     "data": {
      "text/plain": [
       "'Syria'"
      ]
     },
     "execution_count": 38,
     "metadata": {},
     "output_type": "execute_result"
    }
   ],
   "source": [
    "DF.country[0]"
   ]
  },
  {
   "cell_type": "code",
   "execution_count": 39,
   "metadata": {},
   "outputs": [],
   "source": [
    "DFTestA=DFTest # approach 1\n",
    "DFTestB=DFTest.copy() # approach 2\n",
    "DFTestA.drop(['Date of Information'],1,inplace=True) # inplace!!!"
   ]
  },
  {
   "cell_type": "code",
   "execution_count": 40,
   "metadata": {},
   "outputs": [
    {
     "data": {
      "text/html": [
       "<div>\n",
       "<style scoped>\n",
       "    .dataframe tbody tr th:only-of-type {\n",
       "        vertical-align: middle;\n",
       "    }\n",
       "\n",
       "    .dataframe tbody tr th {\n",
       "        vertical-align: top;\n",
       "    }\n",
       "\n",
       "    .dataframe thead th {\n",
       "        text-align: right;\n",
       "    }\n",
       "</style>\n",
       "<table border=\"1\" class=\"dataframe\">\n",
       "  <thead>\n",
       "    <tr style=\"text-align: right;\">\n",
       "      <th></th>\n",
       "      <th>Rank</th>\n",
       "      <th>Country</th>\n",
       "      <th>%</th>\n",
       "    </tr>\n",
       "  </thead>\n",
       "  <tbody>\n",
       "    <tr>\n",
       "      <th>0</th>\n",
       "      <td>1</td>\n",
       "      <td>Syria</td>\n",
       "      <td>5.32</td>\n",
       "    </tr>\n",
       "    <tr>\n",
       "      <th>1</th>\n",
       "      <td>2</td>\n",
       "      <td>South Sudan</td>\n",
       "      <td>5.05</td>\n",
       "    </tr>\n",
       "    <tr>\n",
       "      <th>2</th>\n",
       "      <td>3</td>\n",
       "      <td>Burundi</td>\n",
       "      <td>3.68</td>\n",
       "    </tr>\n",
       "    <tr>\n",
       "      <th>3</th>\n",
       "      <td>4</td>\n",
       "      <td>Niger</td>\n",
       "      <td>3.65</td>\n",
       "    </tr>\n",
       "    <tr>\n",
       "      <th>4</th>\n",
       "      <td>5</td>\n",
       "      <td>Angola</td>\n",
       "      <td>3.38</td>\n",
       "    </tr>\n",
       "    <tr>\n",
       "      <th>...</th>\n",
       "      <td>...</td>\n",
       "      <td>...</td>\n",
       "      <td>...</td>\n",
       "    </tr>\n",
       "    <tr>\n",
       "      <th>235</th>\n",
       "      <td>234</td>\n",
       "      <td>Saint Pierre and Miquelon</td>\n",
       "      <td>-1.20</td>\n",
       "    </tr>\n",
       "    <tr>\n",
       "      <th>236</th>\n",
       "      <td>235</td>\n",
       "      <td>Puerto Rico</td>\n",
       "      <td>-1.46</td>\n",
       "    </tr>\n",
       "    <tr>\n",
       "      <th>237</th>\n",
       "      <td>236</td>\n",
       "      <td>American Samoa</td>\n",
       "      <td>-2.10</td>\n",
       "    </tr>\n",
       "    <tr>\n",
       "      <th>238</th>\n",
       "      <td>237</td>\n",
       "      <td>Cook Islands</td>\n",
       "      <td>-2.46</td>\n",
       "    </tr>\n",
       "    <tr>\n",
       "      <th>239</th>\n",
       "      <td>240</td>\n",
       "      <td>Cocos (Keeling) Islands</td>\n",
       "      <td>-2.46</td>\n",
       "    </tr>\n",
       "  </tbody>\n",
       "</table>\n",
       "<p>240 rows × 3 columns</p>\n",
       "</div>"
      ],
      "text/plain": [
       "     Rank                    Country     %\n",
       "0       1                      Syria  5.32\n",
       "1       2                South Sudan  5.05\n",
       "2       3                    Burundi  3.68\n",
       "3       4                      Niger  3.65\n",
       "4       5                     Angola  3.38\n",
       "..    ...                        ...   ...\n",
       "235   234  Saint Pierre and Miquelon -1.20\n",
       "236   235                Puerto Rico -1.46\n",
       "237   236             American Samoa -2.10\n",
       "238   237               Cook Islands -2.46\n",
       "239   240    Cocos (Keeling) Islands -2.46\n",
       "\n",
       "[240 rows x 3 columns]"
      ]
     },
     "execution_count": 40,
     "metadata": {},
     "output_type": "execute_result"
    }
   ],
   "source": [
    "DFTestA"
   ]
  },
  {
   "cell_type": "code",
   "execution_count": 41,
   "metadata": {},
   "outputs": [],
   "source": [
    "DFTest=DF.copy() # recreating DFTest\n",
    "some=['rank', 'country', '%','date of Information']"
   ]
  },
  {
   "cell_type": "code",
   "execution_count": 42,
   "metadata": {},
   "outputs": [
    {
     "data": {
      "text/html": [
       "<div>\n",
       "<style scoped>\n",
       "    .dataframe tbody tr th:only-of-type {\n",
       "        vertical-align: middle;\n",
       "    }\n",
       "\n",
       "    .dataframe tbody tr th {\n",
       "        vertical-align: top;\n",
       "    }\n",
       "\n",
       "    .dataframe thead th {\n",
       "        text-align: right;\n",
       "    }\n",
       "</style>\n",
       "<table border=\"1\" class=\"dataframe\">\n",
       "  <thead>\n",
       "    <tr style=\"text-align: right;\">\n",
       "      <th></th>\n",
       "      <th>popgrowth rank</th>\n",
       "      <th>country</th>\n",
       "      <th>%</th>\n",
       "      <th>date of Information</th>\n",
       "    </tr>\n",
       "  </thead>\n",
       "  <tbody>\n",
       "    <tr>\n",
       "      <th>0</th>\n",
       "      <td>1</td>\n",
       "      <td>Syria</td>\n",
       "      <td>5.32</td>\n",
       "      <td>2021 est.</td>\n",
       "    </tr>\n",
       "    <tr>\n",
       "      <th>1</th>\n",
       "      <td>2</td>\n",
       "      <td>South Sudan</td>\n",
       "      <td>5.05</td>\n",
       "      <td>2021 est.</td>\n",
       "    </tr>\n",
       "    <tr>\n",
       "      <th>2</th>\n",
       "      <td>3</td>\n",
       "      <td>Burundi</td>\n",
       "      <td>3.68</td>\n",
       "      <td>2021 est.</td>\n",
       "    </tr>\n",
       "    <tr>\n",
       "      <th>3</th>\n",
       "      <td>4</td>\n",
       "      <td>Niger</td>\n",
       "      <td>3.65</td>\n",
       "      <td>2021 est.</td>\n",
       "    </tr>\n",
       "    <tr>\n",
       "      <th>4</th>\n",
       "      <td>5</td>\n",
       "      <td>Angola</td>\n",
       "      <td>3.38</td>\n",
       "      <td>2021 est.</td>\n",
       "    </tr>\n",
       "  </tbody>\n",
       "</table>\n",
       "</div>"
      ],
      "text/plain": [
       "   popgrowth rank      country     % date of Information\n",
       "0               1        Syria  5.32           2021 est.\n",
       "1               2  South Sudan  5.05           2021 est.\n",
       "2               3      Burundi  3.68           2021 est.\n",
       "3               4        Niger  3.65           2021 est.\n",
       "4               5       Angola  3.38           2021 est."
      ]
     },
     "execution_count": 42,
     "metadata": {},
     "output_type": "execute_result"
    }
   ],
   "source": [
    "# all columns\n",
    "DFTest.columns=['popgrowth rank', 'country', '%','date of Information']\n",
    "#se changes:\n",
    "DFTest.head()"
   ]
  },
  {
   "cell_type": "code",
   "execution_count": 43,
   "metadata": {},
   "outputs": [
    {
     "data": {
      "text/plain": [
       "{'popgrowth rank': 'rank', 'country': 'country', '%': '%'}"
      ]
     },
     "execution_count": 43,
     "metadata": {},
     "output_type": "execute_result"
    }
   ],
   "source": [
    "dict(zip(DFTest.columns[0:3:1], some))"
   ]
  },
  {
   "cell_type": "code",
   "execution_count": 44,
   "metadata": {},
   "outputs": [
    {
     "data": {
      "text/html": [
       "<div>\n",
       "<style scoped>\n",
       "    .dataframe tbody tr th:only-of-type {\n",
       "        vertical-align: middle;\n",
       "    }\n",
       "\n",
       "    .dataframe tbody tr th {\n",
       "        vertical-align: top;\n",
       "    }\n",
       "\n",
       "    .dataframe thead th {\n",
       "        text-align: right;\n",
       "    }\n",
       "</style>\n",
       "<table border=\"1\" class=\"dataframe\">\n",
       "  <thead>\n",
       "    <tr style=\"text-align: right;\">\n",
       "      <th></th>\n",
       "      <th>popgrowth rank</th>\n",
       "      <th>country</th>\n",
       "      <th>%</th>\n",
       "    </tr>\n",
       "  </thead>\n",
       "  <tbody>\n",
       "    <tr>\n",
       "      <th>0</th>\n",
       "      <td>1</td>\n",
       "      <td>Syria</td>\n",
       "      <td>5.32</td>\n",
       "    </tr>\n",
       "    <tr>\n",
       "      <th>1</th>\n",
       "      <td>2</td>\n",
       "      <td>South Sudan</td>\n",
       "      <td>5.05</td>\n",
       "    </tr>\n",
       "    <tr>\n",
       "      <th>2</th>\n",
       "      <td>3</td>\n",
       "      <td>Burundi</td>\n",
       "      <td>3.68</td>\n",
       "    </tr>\n",
       "    <tr>\n",
       "      <th>3</th>\n",
       "      <td>4</td>\n",
       "      <td>Niger</td>\n",
       "      <td>3.65</td>\n",
       "    </tr>\n",
       "    <tr>\n",
       "      <th>4</th>\n",
       "      <td>5</td>\n",
       "      <td>Angola</td>\n",
       "      <td>3.38</td>\n",
       "    </tr>\n",
       "    <tr>\n",
       "      <th>...</th>\n",
       "      <td>...</td>\n",
       "      <td>...</td>\n",
       "      <td>...</td>\n",
       "    </tr>\n",
       "    <tr>\n",
       "      <th>235</th>\n",
       "      <td>234</td>\n",
       "      <td>Saint Pierre and Miquelon</td>\n",
       "      <td>-1.20</td>\n",
       "    </tr>\n",
       "    <tr>\n",
       "      <th>236</th>\n",
       "      <td>235</td>\n",
       "      <td>Puerto Rico</td>\n",
       "      <td>-1.46</td>\n",
       "    </tr>\n",
       "    <tr>\n",
       "      <th>237</th>\n",
       "      <td>236</td>\n",
       "      <td>American Samoa</td>\n",
       "      <td>-2.10</td>\n",
       "    </tr>\n",
       "    <tr>\n",
       "      <th>238</th>\n",
       "      <td>237</td>\n",
       "      <td>Cook Islands</td>\n",
       "      <td>-2.46</td>\n",
       "    </tr>\n",
       "    <tr>\n",
       "      <th>239</th>\n",
       "      <td>240</td>\n",
       "      <td>Cocos (Keeling) Islands</td>\n",
       "      <td>-2.46</td>\n",
       "    </tr>\n",
       "  </tbody>\n",
       "</table>\n",
       "<p>240 rows × 3 columns</p>\n",
       "</div>"
      ],
      "text/plain": [
       "     popgrowth rank                    country     %\n",
       "0                 1                      Syria  5.32\n",
       "1                 2                South Sudan  5.05\n",
       "2                 3                    Burundi  3.68\n",
       "3                 4                      Niger  3.65\n",
       "4                 5                     Angola  3.38\n",
       "..              ...                        ...   ...\n",
       "235             234  Saint Pierre and Miquelon -1.20\n",
       "236             235                Puerto Rico -1.46\n",
       "237             236             American Samoa -2.10\n",
       "238             237               Cook Islands -2.46\n",
       "239             240    Cocos (Keeling) Islands -2.46\n",
       "\n",
       "[240 rows x 3 columns]"
      ]
     },
     "execution_count": 44,
     "metadata": {},
     "output_type": "execute_result"
    }
   ],
   "source": [
    "#DFTest.columns[0:3:1] \n",
    "newColumnNames=['popgrowth rank', 'country', '%']\n",
    "DFTest.rename(columns=dict(zip(DFTest.columns[0:3:1], newColumnNames)))\n",
    "DFTest[['popgrowth rank', 'country', '%']]"
   ]
  },
  {
   "cell_type": "code",
   "execution_count": 45,
   "metadata": {},
   "outputs": [
    {
     "data": {
      "text/html": [
       "<div>\n",
       "<style scoped>\n",
       "    .dataframe tbody tr th:only-of-type {\n",
       "        vertical-align: middle;\n",
       "    }\n",
       "\n",
       "    .dataframe tbody tr th {\n",
       "        vertical-align: top;\n",
       "    }\n",
       "\n",
       "    .dataframe thead th {\n",
       "        text-align: right;\n",
       "    }\n",
       "</style>\n",
       "<table border=\"1\" class=\"dataframe\">\n",
       "  <thead>\n",
       "    <tr style=\"text-align: right;\">\n",
       "      <th></th>\n",
       "      <th>popgrowth rank</th>\n",
       "      <th>country</th>\n",
       "      <th>%</th>\n",
       "    </tr>\n",
       "  </thead>\n",
       "  <tbody>\n",
       "    <tr>\n",
       "      <th>0</th>\n",
       "      <td>1</td>\n",
       "      <td>Syria</td>\n",
       "      <td>5.32</td>\n",
       "    </tr>\n",
       "    <tr>\n",
       "      <th>1</th>\n",
       "      <td>2</td>\n",
       "      <td>South Sudan</td>\n",
       "      <td>5.05</td>\n",
       "    </tr>\n",
       "    <tr>\n",
       "      <th>2</th>\n",
       "      <td>3</td>\n",
       "      <td>Burundi</td>\n",
       "      <td>3.68</td>\n",
       "    </tr>\n",
       "    <tr>\n",
       "      <th>3</th>\n",
       "      <td>4</td>\n",
       "      <td>Niger</td>\n",
       "      <td>3.65</td>\n",
       "    </tr>\n",
       "    <tr>\n",
       "      <th>4</th>\n",
       "      <td>5</td>\n",
       "      <td>Angola</td>\n",
       "      <td>3.38</td>\n",
       "    </tr>\n",
       "    <tr>\n",
       "      <th>...</th>\n",
       "      <td>...</td>\n",
       "      <td>...</td>\n",
       "      <td>...</td>\n",
       "    </tr>\n",
       "    <tr>\n",
       "      <th>235</th>\n",
       "      <td>234</td>\n",
       "      <td>Saint Pierre and Miquelon</td>\n",
       "      <td>-1.20</td>\n",
       "    </tr>\n",
       "    <tr>\n",
       "      <th>236</th>\n",
       "      <td>235</td>\n",
       "      <td>Puerto Rico</td>\n",
       "      <td>-1.46</td>\n",
       "    </tr>\n",
       "    <tr>\n",
       "      <th>237</th>\n",
       "      <td>236</td>\n",
       "      <td>American Samoa</td>\n",
       "      <td>-2.10</td>\n",
       "    </tr>\n",
       "    <tr>\n",
       "      <th>238</th>\n",
       "      <td>237</td>\n",
       "      <td>Cook Islands</td>\n",
       "      <td>-2.46</td>\n",
       "    </tr>\n",
       "    <tr>\n",
       "      <th>239</th>\n",
       "      <td>240</td>\n",
       "      <td>Cocos (Keeling) Islands</td>\n",
       "      <td>-2.46</td>\n",
       "    </tr>\n",
       "  </tbody>\n",
       "</table>\n",
       "<p>240 rows × 3 columns</p>\n",
       "</div>"
      ],
      "text/plain": [
       "     popgrowth rank                    country     %\n",
       "0                 1                      Syria  5.32\n",
       "1                 2                South Sudan  5.05\n",
       "2                 3                    Burundi  3.68\n",
       "3                 4                      Niger  3.65\n",
       "4                 5                     Angola  3.38\n",
       "..              ...                        ...   ...\n",
       "235             234  Saint Pierre and Miquelon -1.20\n",
       "236             235                Puerto Rico -1.46\n",
       "237             236             American Samoa -2.10\n",
       "238             237               Cook Islands -2.46\n",
       "239             240    Cocos (Keeling) Islands -2.46\n",
       "\n",
       "[240 rows x 3 columns]"
      ]
     },
     "execution_count": 45,
     "metadata": {},
     "output_type": "execute_result"
    }
   ],
   "source": [
    "DFTest.rename(columns=dict(zip(DFTest.columns[0:3:1], newColumnNames)))\n",
    "DFTest[['popgrowth rank', 'country', '%']]"
   ]
  },
  {
   "cell_type": "code",
   "execution_count": 46,
   "metadata": {},
   "outputs": [
    {
     "data": {
      "text/html": [
       "<div>\n",
       "<style scoped>\n",
       "    .dataframe tbody tr th:only-of-type {\n",
       "        vertical-align: middle;\n",
       "    }\n",
       "\n",
       "    .dataframe tbody tr th {\n",
       "        vertical-align: top;\n",
       "    }\n",
       "\n",
       "    .dataframe thead th {\n",
       "        text-align: right;\n",
       "    }\n",
       "</style>\n",
       "<table border=\"1\" class=\"dataframe\">\n",
       "  <thead>\n",
       "    <tr style=\"text-align: right;\">\n",
       "      <th></th>\n",
       "      <th>popgrowth rank</th>\n",
       "      <th>country</th>\n",
       "      <th>%</th>\n",
       "      <th>date of Information</th>\n",
       "    </tr>\n",
       "  </thead>\n",
       "  <tbody>\n",
       "    <tr>\n",
       "      <th>0</th>\n",
       "      <td>1</td>\n",
       "      <td>Syria</td>\n",
       "      <td>5.32</td>\n",
       "      <td>2021 est.</td>\n",
       "    </tr>\n",
       "    <tr>\n",
       "      <th>1</th>\n",
       "      <td>2</td>\n",
       "      <td>South Sudan</td>\n",
       "      <td>5.05</td>\n",
       "      <td>2021 est.</td>\n",
       "    </tr>\n",
       "    <tr>\n",
       "      <th>2</th>\n",
       "      <td>3</td>\n",
       "      <td>Burundi</td>\n",
       "      <td>3.68</td>\n",
       "      <td>2021 est.</td>\n",
       "    </tr>\n",
       "    <tr>\n",
       "      <th>3</th>\n",
       "      <td>4</td>\n",
       "      <td>Niger</td>\n",
       "      <td>3.65</td>\n",
       "      <td>2021 est.</td>\n",
       "    </tr>\n",
       "    <tr>\n",
       "      <th>4</th>\n",
       "      <td>5</td>\n",
       "      <td>Angola</td>\n",
       "      <td>3.38</td>\n",
       "      <td>2021 est.</td>\n",
       "    </tr>\n",
       "    <tr>\n",
       "      <th>...</th>\n",
       "      <td>...</td>\n",
       "      <td>...</td>\n",
       "      <td>...</td>\n",
       "      <td>...</td>\n",
       "    </tr>\n",
       "    <tr>\n",
       "      <th>235</th>\n",
       "      <td>234</td>\n",
       "      <td>Saint Pierre and Miquelon</td>\n",
       "      <td>-1.20</td>\n",
       "      <td>2021 est.</td>\n",
       "    </tr>\n",
       "    <tr>\n",
       "      <th>236</th>\n",
       "      <td>235</td>\n",
       "      <td>Puerto Rico</td>\n",
       "      <td>-1.46</td>\n",
       "      <td>2021 est.</td>\n",
       "    </tr>\n",
       "    <tr>\n",
       "      <th>237</th>\n",
       "      <td>236</td>\n",
       "      <td>American Samoa</td>\n",
       "      <td>-2.10</td>\n",
       "      <td>2021 est.</td>\n",
       "    </tr>\n",
       "    <tr>\n",
       "      <th>238</th>\n",
       "      <td>237</td>\n",
       "      <td>Cook Islands</td>\n",
       "      <td>-2.46</td>\n",
       "      <td>2021 est.</td>\n",
       "    </tr>\n",
       "    <tr>\n",
       "      <th>239</th>\n",
       "      <td>240</td>\n",
       "      <td>Cocos (Keeling) Islands</td>\n",
       "      <td>-2.46</td>\n",
       "      <td>2021 est.</td>\n",
       "    </tr>\n",
       "  </tbody>\n",
       "</table>\n",
       "<p>240 rows × 4 columns</p>\n",
       "</div>"
      ],
      "text/plain": [
       "     popgrowth rank                    country     % date of Information\n",
       "0                 1                      Syria  5.32           2021 est.\n",
       "1                 2                South Sudan  5.05           2021 est.\n",
       "2                 3                    Burundi  3.68           2021 est.\n",
       "3                 4                      Niger  3.65           2021 est.\n",
       "4                 5                     Angola  3.38           2021 est.\n",
       "..              ...                        ...   ...                 ...\n",
       "235             234  Saint Pierre and Miquelon -1.20           2021 est.\n",
       "236             235                Puerto Rico -1.46           2021 est.\n",
       "237             236             American Samoa -2.10           2021 est.\n",
       "238             237               Cook Islands -2.46           2021 est.\n",
       "239             240    Cocos (Keeling) Islands -2.46           2021 est.\n",
       "\n",
       "[240 rows x 4 columns]"
      ]
     },
     "execution_count": 46,
     "metadata": {},
     "output_type": "execute_result"
    }
   ],
   "source": [
    "DFTest"
   ]
  },
  {
   "cell_type": "code",
   "execution_count": 47,
   "metadata": {},
   "outputs": [],
   "source": [
    "DFTest.rename(columns=dict(zip(DFTest.columns[0:3:1], newColumnNames)),inplace=True)"
   ]
  },
  {
   "cell_type": "code",
   "execution_count": 48,
   "metadata": {},
   "outputs": [
    {
     "data": {
      "text/html": [
       "<div>\n",
       "<style scoped>\n",
       "    .dataframe tbody tr th:only-of-type {\n",
       "        vertical-align: middle;\n",
       "    }\n",
       "\n",
       "    .dataframe tbody tr th {\n",
       "        vertical-align: top;\n",
       "    }\n",
       "\n",
       "    .dataframe thead th {\n",
       "        text-align: right;\n",
       "    }\n",
       "</style>\n",
       "<table border=\"1\" class=\"dataframe\">\n",
       "  <thead>\n",
       "    <tr style=\"text-align: right;\">\n",
       "      <th></th>\n",
       "      <th>popgrowth rank</th>\n",
       "      <th>country</th>\n",
       "      <th>%</th>\n",
       "    </tr>\n",
       "  </thead>\n",
       "  <tbody>\n",
       "    <tr>\n",
       "      <th>0</th>\n",
       "      <td>1</td>\n",
       "      <td>Syria</td>\n",
       "      <td>5.32</td>\n",
       "    </tr>\n",
       "    <tr>\n",
       "      <th>1</th>\n",
       "      <td>2</td>\n",
       "      <td>South Sudan</td>\n",
       "      <td>5.05</td>\n",
       "    </tr>\n",
       "    <tr>\n",
       "      <th>2</th>\n",
       "      <td>3</td>\n",
       "      <td>Burundi</td>\n",
       "      <td>3.68</td>\n",
       "    </tr>\n",
       "    <tr>\n",
       "      <th>3</th>\n",
       "      <td>4</td>\n",
       "      <td>Niger</td>\n",
       "      <td>3.65</td>\n",
       "    </tr>\n",
       "    <tr>\n",
       "      <th>4</th>\n",
       "      <td>5</td>\n",
       "      <td>Angola</td>\n",
       "      <td>3.38</td>\n",
       "    </tr>\n",
       "    <tr>\n",
       "      <th>...</th>\n",
       "      <td>...</td>\n",
       "      <td>...</td>\n",
       "      <td>...</td>\n",
       "    </tr>\n",
       "    <tr>\n",
       "      <th>235</th>\n",
       "      <td>234</td>\n",
       "      <td>Saint Pierre and Miquelon</td>\n",
       "      <td>-1.20</td>\n",
       "    </tr>\n",
       "    <tr>\n",
       "      <th>236</th>\n",
       "      <td>235</td>\n",
       "      <td>Puerto Rico</td>\n",
       "      <td>-1.46</td>\n",
       "    </tr>\n",
       "    <tr>\n",
       "      <th>237</th>\n",
       "      <td>236</td>\n",
       "      <td>American Samoa</td>\n",
       "      <td>-2.10</td>\n",
       "    </tr>\n",
       "    <tr>\n",
       "      <th>238</th>\n",
       "      <td>237</td>\n",
       "      <td>Cook Islands</td>\n",
       "      <td>-2.46</td>\n",
       "    </tr>\n",
       "    <tr>\n",
       "      <th>239</th>\n",
       "      <td>240</td>\n",
       "      <td>Cocos (Keeling) Islands</td>\n",
       "      <td>-2.46</td>\n",
       "    </tr>\n",
       "  </tbody>\n",
       "</table>\n",
       "<p>240 rows × 3 columns</p>\n",
       "</div>"
      ],
      "text/plain": [
       "     popgrowth rank                    country     %\n",
       "0                 1                      Syria  5.32\n",
       "1                 2                South Sudan  5.05\n",
       "2                 3                    Burundi  3.68\n",
       "3                 4                      Niger  3.65\n",
       "4                 5                     Angola  3.38\n",
       "..              ...                        ...   ...\n",
       "235             234  Saint Pierre and Miquelon -1.20\n",
       "236             235                Puerto Rico -1.46\n",
       "237             236             American Samoa -2.10\n",
       "238             237               Cook Islands -2.46\n",
       "239             240    Cocos (Keeling) Islands -2.46\n",
       "\n",
       "[240 rows x 3 columns]"
      ]
     },
     "execution_count": 48,
     "metadata": {},
     "output_type": "execute_result"
    }
   ],
   "source": [
    "DFTest[['popgrowth rank', 'country', '%']]"
   ]
  },
  {
   "cell_type": "code",
   "execution_count": 49,
   "metadata": {},
   "outputs": [],
   "source": [
    "textExample=\"var1 iab22 les333[4]\""
   ]
  },
  {
   "cell_type": "code",
   "execution_count": 50,
   "metadata": {},
   "outputs": [
    {
     "data": {
      "text/plain": [
       "'variables'"
      ]
     },
     "execution_count": 50,
     "metadata": {},
     "output_type": "execute_result"
    }
   ],
   "source": [
    "WhenYouFind='\\\\s+|\\\\d+|\\\\[|\\\\]'\n",
    "replaceWith=''\n",
    "\n",
    "# use it:\n",
    "re.sub(WhenYouFind,replaceWith,textExample)"
   ]
  },
  {
   "cell_type": "code",
   "execution_count": 51,
   "metadata": {},
   "outputs": [
    {
     "data": {
      "text/plain": [
       "['popgrowthrank', 'country', '%', 'dateofInformation']"
      ]
     },
     "execution_count": 51,
     "metadata": {},
     "output_type": "execute_result"
    }
   ],
   "source": [
    "[re.sub(WhenYouFind,replaceWith,NewColumnNames) for NewColumnNames in DFTest.columns]"
   ]
  },
  {
   "cell_type": "code",
   "execution_count": 52,
   "metadata": {},
   "outputs": [
    {
     "data": {
      "text/plain": [
       "['popgrowthrank', 'country', '%', 'dateofinformation']"
      ]
     },
     "execution_count": 52,
     "metadata": {},
     "output_type": "execute_result"
    }
   ],
   "source": [
    "[re.sub(WhenYouFind,replaceWith,NewColumnNames).lower() for NewColumnNames in DFTest.columns]"
   ]
  },
  {
   "cell_type": "code",
   "execution_count": 53,
   "metadata": {},
   "outputs": [
    {
     "data": {
      "text/plain": [
       "['rank', 'country', '%', 'dateinformation']"
      ]
     },
     "execution_count": 53,
     "metadata": {},
     "output_type": "execute_result"
    }
   ],
   "source": [
    "[cleaner(TEXT) for TEXT in DF.columns]"
   ]
  },
  {
   "cell_type": "code",
   "execution_count": 54,
   "metadata": {},
   "outputs": [
    {
     "data": {
      "text/plain": [
       "Index(['rank', 'country', '%', 'dateinformation'], dtype='object')"
      ]
     },
     "execution_count": 54,
     "metadata": {},
     "output_type": "execute_result"
    }
   ],
   "source": [
    "DFTest=DF.copy()\n",
    "\n",
    "\n",
    "DFTest.columns.str.replace(WhenYouFind,replaceWith,regex=True).str.lower()"
   ]
  },
  {
   "cell_type": "code",
   "execution_count": 55,
   "metadata": {},
   "outputs": [
    {
     "data": {
      "text/plain": [
       "Index(['rank', 'country', '%'], dtype='object')"
      ]
     },
     "execution_count": 55,
     "metadata": {},
     "output_type": "execute_result"
    }
   ],
   "source": [
    "DFTest.columns[0:3:1].str.replace(WhenYouFind,replaceWith,regex=True).str.lower()"
   ]
  },
  {
   "cell_type": "code",
   "execution_count": 56,
   "metadata": {},
   "outputs": [
    {
     "data": {
      "text/plain": [
       "Index(['rank', 'country', '%'], dtype='object')"
      ]
     },
     "execution_count": 56,
     "metadata": {},
     "output_type": "execute_result"
    }
   ],
   "source": [
    "\n",
    "NewColumnNames=DFTest.columns[0:3:1].str.replace(WhenYouFind,replaceWith,regex=True).str.lower()\n",
    "\n",
    "NewColumnNames"
   ]
  },
  {
   "cell_type": "code",
   "execution_count": 57,
   "metadata": {},
   "outputs": [
    {
     "data": {
      "text/plain": [
       "{'rank': 'rank', 'country': 'country', '%': '%'}"
      ]
     },
     "execution_count": 57,
     "metadata": {},
     "output_type": "execute_result"
    }
   ],
   "source": [
    "changes=dict(zip(DF.iloc[:,0:3:1].columns,NewColumnNames))\n",
    "changes"
   ]
  },
  {
   "cell_type": "code",
   "execution_count": 58,
   "metadata": {},
   "outputs": [
    {
     "data": {
      "text/plain": [
       "Index(['rank', 'country', '%', 'dateinformation'], dtype='object')"
      ]
     },
     "execution_count": 58,
     "metadata": {},
     "output_type": "execute_result"
    }
   ],
   "source": [
    "DFTest=DF.copy() \n",
    "DFTest.columns"
   ]
  },
  {
   "cell_type": "code",
   "execution_count": 59,
   "metadata": {},
   "outputs": [
    {
     "data": {
      "text/plain": [
       "[['rank'], ['country'], ['%'], ['dateinformation']]"
      ]
     },
     "execution_count": 59,
     "metadata": {},
     "output_type": "execute_result"
    }
   ],
   "source": [
    "notSoBad=[TEXT.split(\"[\") for TEXT in DFTest.columns]\n",
    "\n",
    "notSoBad"
   ]
  },
  {
   "cell_type": "code",
   "execution_count": 60,
   "metadata": {},
   "outputs": [
    {
     "data": {
      "text/plain": [
       "['rank', 'country', '%', 'dateinformation']"
      ]
     },
     "execution_count": 60,
     "metadata": {},
     "output_type": "execute_result"
    }
   ],
   "source": [
    "notSoBad=[TEXT.split(\"[\")[0] for TEXT in DFTest.columns]\n",
    "\n",
    "notSoBad"
   ]
  },
  {
   "cell_type": "code",
   "execution_count": 61,
   "metadata": {},
   "outputs": [
    {
     "data": {
      "text/plain": [
       "[['rank'], ['country'], ['%'], ['dateinformation']]"
      ]
     },
     "execution_count": 61,
     "metadata": {},
     "output_type": "execute_result"
    }
   ],
   "source": [
    "goodEnough=[TEXT.split(\" \") for TEXT in notSoBad]\n",
    "\n",
    "goodEnough"
   ]
  },
  {
   "cell_type": "code",
   "execution_count": 62,
   "metadata": {},
   "outputs": [
    {
     "data": {
      "text/plain": [
       "['rank', 'country', '%', 'dateinformation']"
      ]
     },
     "execution_count": 62,
     "metadata": {},
     "output_type": "execute_result"
    }
   ],
   "source": [
    "betterThanBad=[\"\".join(TEXT.split(\" \")) for TEXT in notSoBad]\n",
    "\n",
    "betterThanBad"
   ]
  },
  {
   "cell_type": "code",
   "execution_count": 63,
   "metadata": {},
   "outputs": [
    {
     "data": {
      "text/plain": [
       "['rank', 'country', '%', 'dateinformation']"
      ]
     },
     "execution_count": 63,
     "metadata": {},
     "output_type": "execute_result"
    }
   ],
   "source": [
    "import re\n",
    "[re.sub('\\d+|index|of',\"\",text.lower()) for text in betterThanBad]"
   ]
  },
  {
   "cell_type": "code",
   "execution_count": 64,
   "metadata": {},
   "outputs": [],
   "source": [
    "DF.columns=[re.sub('\\d+|index|of',\"\",text.lower()) for text in betterThanBad]"
   ]
  },
  {
   "cell_type": "code",
   "execution_count": 65,
   "metadata": {},
   "outputs": [
    {
     "data": {
      "text/plain": [
       "'Syria'"
      ]
     },
     "execution_count": 65,
     "metadata": {},
     "output_type": "execute_result"
    }
   ],
   "source": [
    "DF.country[0]"
   ]
  },
  {
   "cell_type": "code",
   "execution_count": 70,
   "metadata": {},
   "outputs": [],
   "source": [
    "DFTestA=DFTest # approach 1\n",
    "DFTestB=DFTest.copy() # approach 2\n",
    "DFTestA.drop(['dateinformation'],1,inplace=True) # inplace!!!"
   ]
  },
  {
   "cell_type": "code",
   "execution_count": 71,
   "metadata": {},
   "outputs": [
    {
     "data": {
      "text/html": [
       "<div>\n",
       "<style scoped>\n",
       "    .dataframe tbody tr th:only-of-type {\n",
       "        vertical-align: middle;\n",
       "    }\n",
       "\n",
       "    .dataframe tbody tr th {\n",
       "        vertical-align: top;\n",
       "    }\n",
       "\n",
       "    .dataframe thead th {\n",
       "        text-align: right;\n",
       "    }\n",
       "</style>\n",
       "<table border=\"1\" class=\"dataframe\">\n",
       "  <thead>\n",
       "    <tr style=\"text-align: right;\">\n",
       "      <th></th>\n",
       "      <th>rank</th>\n",
       "      <th>country</th>\n",
       "      <th>%</th>\n",
       "    </tr>\n",
       "  </thead>\n",
       "  <tbody>\n",
       "    <tr>\n",
       "      <th>0</th>\n",
       "      <td>1</td>\n",
       "      <td>Syria</td>\n",
       "      <td>5.32</td>\n",
       "    </tr>\n",
       "    <tr>\n",
       "      <th>1</th>\n",
       "      <td>2</td>\n",
       "      <td>South Sudan</td>\n",
       "      <td>5.05</td>\n",
       "    </tr>\n",
       "    <tr>\n",
       "      <th>2</th>\n",
       "      <td>3</td>\n",
       "      <td>Burundi</td>\n",
       "      <td>3.68</td>\n",
       "    </tr>\n",
       "    <tr>\n",
       "      <th>3</th>\n",
       "      <td>4</td>\n",
       "      <td>Niger</td>\n",
       "      <td>3.65</td>\n",
       "    </tr>\n",
       "    <tr>\n",
       "      <th>4</th>\n",
       "      <td>5</td>\n",
       "      <td>Angola</td>\n",
       "      <td>3.38</td>\n",
       "    </tr>\n",
       "    <tr>\n",
       "      <th>...</th>\n",
       "      <td>...</td>\n",
       "      <td>...</td>\n",
       "      <td>...</td>\n",
       "    </tr>\n",
       "    <tr>\n",
       "      <th>235</th>\n",
       "      <td>234</td>\n",
       "      <td>Saint Pierre and Miquelon</td>\n",
       "      <td>-1.20</td>\n",
       "    </tr>\n",
       "    <tr>\n",
       "      <th>236</th>\n",
       "      <td>235</td>\n",
       "      <td>Puerto Rico</td>\n",
       "      <td>-1.46</td>\n",
       "    </tr>\n",
       "    <tr>\n",
       "      <th>237</th>\n",
       "      <td>236</td>\n",
       "      <td>American Samoa</td>\n",
       "      <td>-2.10</td>\n",
       "    </tr>\n",
       "    <tr>\n",
       "      <th>238</th>\n",
       "      <td>237</td>\n",
       "      <td>Cook Islands</td>\n",
       "      <td>-2.46</td>\n",
       "    </tr>\n",
       "    <tr>\n",
       "      <th>239</th>\n",
       "      <td>240</td>\n",
       "      <td>Cocos (Keeling) Islands</td>\n",
       "      <td>-2.46</td>\n",
       "    </tr>\n",
       "  </tbody>\n",
       "</table>\n",
       "<p>240 rows × 3 columns</p>\n",
       "</div>"
      ],
      "text/plain": [
       "     rank                    country     %\n",
       "0       1                      Syria  5.32\n",
       "1       2                South Sudan  5.05\n",
       "2       3                    Burundi  3.68\n",
       "3       4                      Niger  3.65\n",
       "4       5                     Angola  3.38\n",
       "..    ...                        ...   ...\n",
       "235   234  Saint Pierre and Miquelon -1.20\n",
       "236   235                Puerto Rico -1.46\n",
       "237   236             American Samoa -2.10\n",
       "238   237               Cook Islands -2.46\n",
       "239   240    Cocos (Keeling) Islands -2.46\n",
       "\n",
       "[240 rows x 3 columns]"
      ]
     },
     "execution_count": 71,
     "metadata": {},
     "output_type": "execute_result"
    }
   ],
   "source": [
    "DFTestA"
   ]
  },
  {
   "cell_type": "code",
   "execution_count": 72,
   "metadata": {},
   "outputs": [],
   "source": [
    "DFTestA.to_csv(\"AnnieData.csv\",index=False)"
   ]
  },
  {
   "cell_type": "code",
   "execution_count": null,
   "metadata": {},
   "outputs": [],
   "source": []
  }
 ],
 "metadata": {
  "kernelspec": {
   "display_name": "Python 3",
   "language": "python",
   "name": "python3"
  },
  "language_info": {
   "codemirror_mode": {
    "name": "ipython",
    "version": 3
   },
   "file_extension": ".py",
   "mimetype": "text/x-python",
   "name": "python",
   "nbconvert_exporter": "python",
   "pygments_lexer": "ipython3",
   "version": "3.8.5"
  }
 },
 "nbformat": 4,
 "nbformat_minor": 4
}
